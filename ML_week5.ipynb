{
 "cells": [
  {
   "cell_type": "code",
   "execution_count": 1,
   "metadata": {},
   "outputs": [
    {
     "name": "stdout",
     "output_type": "stream",
     "text": [
      "[  24.77802114 -228.33364296  495.54594378  361.21481169 -109.82542594\n",
      "  -78.3286822  -190.69780344  108.24040795  383.72269392  107.42593373]\n",
      "MSE: 2865.170\n",
      "R^2: 0.522\n"
     ]
    }
   ],
   "source": [
    "from sklearn.linear_model import Ridge\n",
    "from sklearn.model_selection import train_test_split\n",
    "from sklearn.datasets import load_diabetes\n",
    "from sklearn.metrics import mean_squared_error\n",
    "from sklearn.metrics import r2_score\n",
    "\n",
    "X,y = load_diabetes().data, load_diabetes().target\n",
    "X_train, X_test, y_train, y_test = train_test_split(X,y, random_state=8)\n",
    "ridge = Ridge(alpha=0.1).fit(X_train,y_train)\n",
    "print(ridge.coef_)\n",
    "\n",
    "y_train_pred = ridge.predict(X_train)\n",
    "\n",
    "print('MSE: %.3f' % (mean_squared_error(y_train, y_train_pred)))\n",
    "print('R^2: %.3f' % (r2_score(y_train, y_train_pred)))"
   ]
  },
  {
   "cell_type": "code",
   "execution_count": 2,
   "metadata": {},
   "outputs": [
    {
     "name": "stdout",
     "output_type": "stream",
     "text": [
      "MSE: 3027.227\n",
      "R^2: 0.473\n"
     ]
    }
   ],
   "source": [
    "y_test_pred = ridge.predict(X_test)\n",
    "print('MSE: %.3f' % (mean_squared_error(y_test, y_test_pred)))\n",
    "print('R^2: %.3f' % (r2_score(y_test, y_test_pred)))"
   ]
  },
  {
   "cell_type": "code",
   "execution_count": 3,
   "metadata": {},
   "outputs": [
    {
     "name": "stdout",
     "output_type": "stream",
     "text": [
      "[  0.          -0.         384.73421807  72.69325545   0.\n",
      "   0.          -0.           0.         247.88881314   0.        ]\n",
      "MSE: 3818.201\n",
      "R^2: 0.362\n",
      "MSE:3646.836\n",
      "R^2: 0.366\n"
     ]
    }
   ],
   "source": [
    "from sklearn.linear_model import Lasso\n",
    "\n",
    "lasso = Lasso(alpha = 1).fit(X_train,y_train)\n",
    "print(lasso.coef_)\n",
    "\n",
    "y_train_pred = lasso.predict(X_train)\n",
    "\n",
    "y_pred = lasso.predict(X_train)\n",
    "\n",
    "print('MSE: %.3f' % (mean_squared_error(y_train, y_pred)))\n",
    "print('R^2: %.3f' % (r2_score(y_train, y_pred)))\n",
    "\n",
    "y_test_pred = lasso.predict(X_test)\n",
    "\n",
    "print('MSE:%.3f' %(mean_squared_error(y_test, y_test_pred)))\n",
    "print('R^2: %.3f' %(r2_score(y_test, y_test_pred)))"
   ]
  },
  {
   "cell_type": "code",
   "execution_count": 4,
   "metadata": {},
   "outputs": [
    {
     "name": "stdout",
     "output_type": "stream",
     "text": [
      "[ 0.21886047  0.          3.32172605  2.40903271  0.39329589  0.0813468\n",
      " -1.66664402  1.86756919  3.0113635   1.88112395]\n",
      "MSE: 5937.607\n",
      "R^2: 0.009\n",
      "MSE:5704.626\n",
      "R^2: 0.008\n"
     ]
    }
   ],
   "source": [
    "from sklearn.linear_model import ElasticNet\n",
    "\n",
    "elanet = ElasticNet(alpha=1, l1_ratio=0.5).fit(X_train,y_train)\n",
    "print(elanet.coef_)\n",
    "\n",
    "y_pred = elanet.predict(X_train)\n",
    "\n",
    "print('MSE: %.3f' % (mean_squared_error(y_train, y_pred)))\n",
    "print('R^2: %.3f' % (r2_score(y_train, y_pred)))\n",
    "\n",
    "y_test_pred = elanet.predict(X_test)\n",
    "\n",
    "print('MSE:%.3f' %(mean_squared_error(y_test, y_test_pred)))\n",
    "print('R^2: %.3f' %(r2_score(y_test, y_test_pred)))"
   ]
  },
  {
   "cell_type": "code",
   "execution_count": 5,
   "metadata": {},
   "outputs": [],
   "source": [
    "import pandas as pd\n",
    "import numpy as np\n",
    "from sklearn.datasets import load_iris\n",
    "\n",
    "iris = load_iris()\n",
    "\n",
    "feature = pd.DataFrame(iris['data'], columns=iris['feature_names'])\n",
    "target = pd.DataFrame(iris['target'], columns=['class'])\n",
    "\n",
    "data = pd.concat([feature, target], axis=1)\n",
    "df = data[data['class'] !=2 ]"
   ]
  },
  {
   "cell_type": "code",
   "execution_count": 6,
   "metadata": {},
   "outputs": [
    {
     "name": "stderr",
     "output_type": "stream",
     "text": [
      "/anaconda3/lib/python3.7/site-packages/seaborn/axisgrid.py:230: UserWarning: The `size` paramter has been renamed to `height`; please update your code.\n",
      "  warnings.warn(msg, UserWarning)\n"
     ]
    },
    {
     "data": {
      "text/plain": [
       "<seaborn.axisgrid.FacetGrid at 0x11f90d898>"
      ]
     },
     "execution_count": 6,
     "metadata": {},
     "output_type": "execute_result"
    },
    {
     "data": {
      "image/png": "[encoded data removed]",
      "text/plain": [
       "<Figure size 402.375x360 with 1 Axes>"
      ]
     },
     "metadata": {},
     "output_type": "display_data"
    }
   ],
   "source": [
    "import matplotlib.pyplot as plt\n",
    "import seaborn as sns\n",
    "\n",
    "%matplotlib inline\n",
    "\n",
    "plt.style.use('ggplot')\n",
    "g = sns.FacetGrid(df, hue='class', size=5)\n",
    "g.map(plt.scatter, \"sepal length (cm)\", \"sepal width (cm)\")\n",
    "g.add_legend()"
   ]
  },
  {
   "cell_type": "code",
   "execution_count": 7,
   "metadata": {},
   "outputs": [],
   "source": [
    "from sklearn.model_selection import train_test_split\n",
    "from sklearn.preprocessing import StandardScaler\n",
    "\n",
    "X = df.iloc[:,:2].values\n",
    "y = df.iloc[:,4].values\n",
    "\n",
    "sc = StandardScaler()\n",
    "sc.fit(X)\n",
    "X_std = sc.transform(X)"
   ]
  },
  {
   "cell_type": "code",
   "execution_count": 8,
   "metadata": {},
   "outputs": [
    {
     "name": "stdout",
     "output_type": "stream",
     "text": [
      "[[ 9.87113623 -6.67376595]]\n",
      "[1.7401565]\n"
     ]
    },
    {
     "name": "stderr",
     "output_type": "stream",
     "text": [
      "/anaconda3/lib/python3.7/site-packages/sklearn/linear_model/logistic.py:432: FutureWarning: Default solver will be changed to 'lbfgs' in 0.22. Specify a solver to silence this warning.\n",
      "  FutureWarning)\n"
     ]
    }
   ],
   "source": [
    "from sklearn.linear_model import LogisticRegression\n",
    "from matplotlib.colors import ListedColormap\n",
    "\n",
    "lr = LogisticRegression(C=100.0, random_state=1)\n",
    "lr.fit(X_std, y)\n",
    "\n",
    "print(lr.coef_)\n",
    "print(lr.intercept_)"
   ]
  },
  {
   "cell_type": "code",
   "execution_count": 30,
   "metadata": {},
   "outputs": [],
   "source": [
    "def plot_decision_regions(X, y, classifier, test_idx=None, resolution=0.02):\n",
    "    \n",
    "    # setup marker generator and color map\n",
    "    markers =('s', 'x', 'o', '^', 'v')\n",
    "    colors = ('red', \"blue\",' lightgreen', 'gray', 'cyan')\n",
    "    cmap = ListedColormap(colors [ : len (np.unique(y))])\n",
    "\n",
    "    # plot the decision surface\n",
    "    x1_min, x1_max= X[:, 0].min() - 1, X[:,0].max() + 1\n",
    "    x2_min, x2_max = X[:, 1].min() - 1, X[:, 1].max() + 1\n",
    "    xx1, xx2 = np.meshgrid(np.arange(x1_min, x1_max, resolution),\n",
    "                                    np.arange(x2_min, x2_max, resolution))\n",
    "    Z = classifier.predict(np.array( [xx1.ravel(), xx2. ravel()]).T)\n",
    "    Z = Z. reshape(xx1.shape)\n",
    "    plt.contourf(xx1, xx2, Z, alpha=0.3, cmap=cmap)\n",
    "    plt.xlim(xx1.min(), xx1.max())\n",
    "    plt.ylim(xx2.min(), xx2.max())\n",
    "    \n",
    "    for idx, cl in enumerate(np.unique(y)):\n",
    "        plt.scatter(x=X[y == cl, 0],\n",
    "                        y=X[y == cl, 1],\n",
    "                        alpha=0.8,\n",
    "                        c=colors [idx],\n",
    "                        marker=markers [idx],\n",
    "                        label=cl,\n",
    "                        edgecolor='black')\n",
    "    \n",
    "    # highlight test samples\n",
    "    if test_idx:\n",
    "        # plot all samples\n",
    "        X_test, y_test = X[test_idx, :], y[test_idx]\n",
    "        \n",
    "        plt.scatter(X_test [:, 0],\n",
    "                        X_test [:, 1],\n",
    "                        C=' ',\n",
    "                        edgecolor='black',\n",
    "                        alpha=1.0,\n",
    "                        linewidth=1,\n",
    "                        marker='o',\n",
    "                        S=100,\n",
    "                        label='test set ')"
   ]
  },
  {
   "cell_type": "code",
   "execution_count": 31,
   "metadata": {},
   "outputs": [
    {
     "data": {
      "image/png": "[encoded data removed]",
      "text/plain": [
       "<Figure size 432x288 with 1 Axes>"
      ]
     },
     "metadata": {},
     "output_type": "display_data"
    }
   ],
   "source": [
    "plot_decision_regions(X_std,y,classifier=lr)\n",
    "plt.xlabel('sepal langth')\n",
    "plt.ylabel('sepal width')\n",
    "plt.legend(loc='upper left')\n",
    "plt.tight_layout()\n",
    "plt.show()"
   ]
  },
  {
   "cell_type": "code",
   "execution_count": null,
   "metadata": {},
   "outputs": [],
   "source": []
  },
  {
   "cell_type": "code",
   "execution_count": null,
   "metadata": {},
   "outputs": [],
   "source": []
  }
 ],
 "metadata": {
  "kernelspec": {
   "display_name": "Python 3",
   "language": "python",
   "name": "python3"
  },
  "language_info": {
   "codemirror_mode": {
    "name": "ipython",
    "version": 3
   },
   "file_extension": ".py",
   "mimetype": "text/x-python",
   "name": "python",
   "nbconvert_exporter": "python",
   "pygments_lexer": "ipython3",
   "version": "3.7.3"
  }
 },
 "nbformat": 4,
 "nbformat_minor": 2
}
