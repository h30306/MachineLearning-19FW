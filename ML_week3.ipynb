{
 "cells": [
  {
   "cell_type": "markdown",
   "metadata": {},
   "source": [
    "# Gradient descent (梯度下降法)"
   ]
  },
  {
   "cell_type": "raw",
   "metadata": {},
   "source": [
    "(θ₀, θ₁)₀ = (0, 0), (η =0.01)\n",
    "x    y    h(x)=θ₀+θ₁⋅x   h(x)-y   (h(x)-y)⋅x                                                  \n",
    "-3   6          0               -6          18           \n",
    "-1    4          0               -4          4            \n",
    " 0    2          0               -2          0            \n",
    " 1     0         0                 0          0            \n",
    " 4   -8         0                8           32    \n",
    "                              ∑(h(x)-y)=  ∑((h(x)-y)⋅x)=\n",
    "                                    -4         54\n",
    "\n",
    "(θ₀, θ₁)₁   =  (0-(0.01⋅-4),  0-(0.01*54)) =  (0.04, -0.54)                              "
   ]
  },
  {
   "cell_type": "raw",
   "metadata": {},
   "source": [
    "Cost function\n",
    "𝑬(θ₀, θ₁) = 1/2 ∑(θ₀+θ₁⋅x⁽ⁱ⁾-y⁽ⁱ⁾)²\n",
    "Gradient descent\n",
    "θ₀ := θ₀ − η ∂E/∂θ₀ #對θ₀偏微分\n",
    "θ₁ := θ₁ − η ∂E/∂θ₁ #對θ₁偏微分\n",
    "∑(h(x)-y) = ∂E/∂θ₀\n",
    "∑((h(x)-y)⋅x) = ∂E/∂θ₁"
   ]
  },
  {
   "cell_type": "code",
   "execution_count": 2,
   "metadata": {},
   "outputs": [],
   "source": [
    "import numpy as np\n",
    "import pandas as pd\n",
    "import matplotlib.pyplot as plt"
   ]
  },
  {
   "cell_type": "code",
   "execution_count": 3,
   "metadata": {},
   "outputs": [],
   "source": [
    "data = pd.read_csv('regression.csv')\n",
    "X = data.iloc[:,0].values\n",
    "y = data.iloc[:,1].values"
   ]
  },
  {
   "cell_type": "code",
   "execution_count": 4,
   "metadata": {},
   "outputs": [
    {
     "data": {
      "text/html": [
       "<div>\n",
       "<style scoped>\n",
       "    .dataframe tbody tr th:only-of-type {\n",
       "        vertical-align: middle;\n",
       "    }\n",
       "\n",
       "    .dataframe tbody tr th {\n",
       "        vertical-align: top;\n",
       "    }\n",
       "\n",
       "    .dataframe thead th {\n",
       "        text-align: right;\n",
       "    }\n",
       "</style>\n",
       "<table border=\"1\" class=\"dataframe\">\n",
       "  <thead>\n",
       "    <tr style=\"text-align: right;\">\n",
       "      <th></th>\n",
       "      <th>X</th>\n",
       "      <th>y</th>\n",
       "    </tr>\n",
       "  </thead>\n",
       "  <tbody>\n",
       "    <tr>\n",
       "      <th>X</th>\n",
       "      <td>1.000000</td>\n",
       "      <td>0.949494</td>\n",
       "    </tr>\n",
       "    <tr>\n",
       "      <th>y</th>\n",
       "      <td>0.949494</td>\n",
       "      <td>1.000000</td>\n",
       "    </tr>\n",
       "  </tbody>\n",
       "</table>\n",
       "</div>"
      ],
      "text/plain": [
       "          X         y\n",
       "X  1.000000  0.949494\n",
       "y  0.949494  1.000000"
      ]
     },
     "execution_count": 4,
     "metadata": {},
     "output_type": "execute_result"
    }
   ],
   "source": [
    "data.corr()"
   ]
  },
  {
   "cell_type": "code",
   "execution_count": 5,
   "metadata": {},
   "outputs": [],
   "source": [
    "# =================Gragient descent algorithm=================\n",
    "\n",
    "#init\n",
    "theta = [0,0] \n",
    "\n",
    "def h(x):\n",
    "    global theta\n",
    "    return theta[0]+theta[1]*x\n",
    "\n",
    "#cost function\n",
    "def computeCost(X,y):\n",
    "    global theta\n",
    "    return np.sum(1/2)*(h(X)-y)**2"
   ]
  },
  {
   "cell_type": "code",
   "execution_count": 6,
   "metadata": {},
   "outputs": [
    {
     "data": {
      "text/plain": [
       "1938623.5"
      ]
     },
     "execution_count": 6,
     "metadata": {},
     "output_type": "execute_result"
    }
   ],
   "source": [
    "sum(computeCost(X,y))"
   ]
  },
  {
   "cell_type": "code",
   "execution_count": 7,
   "metadata": {},
   "outputs": [],
   "source": [
    "eta = 0.02\n",
    "count = 200\n",
    "temp = [0,0]\n",
    "cost1 = []\n",
    "\n",
    "cost1.append(sum(computeCost(X,y)))\n",
    "for iter in range(1,count+1):\n",
    "    #update(θ₀, θ)\n",
    "    theta[0] = theta[0] - eta*sum(h(X)-y)\n",
    "    theta[1] = theta[1] - eta*sum((h(X)-y)*X)\n",
    "    cost1.append(sum(computeCost(X,y)))"
   ]
  },
  {
   "cell_type": "code",
   "execution_count": 8,
   "metadata": {},
   "outputs": [
    {
     "data": {
      "text/plain": [
       "[429.1500598264318, 93.47879974527055]"
      ]
     },
     "execution_count": 8,
     "metadata": {},
     "output_type": "execute_result"
    }
   ],
   "source": [
    "theta"
   ]
  },
  {
   "cell_type": "code",
   "execution_count": 9,
   "metadata": {},
   "outputs": [
    {
     "data": {
      "text/plain": [
       "9543.500383385614"
      ]
     },
     "execution_count": 9,
     "metadata": {},
     "output_type": "execute_result"
    }
   ],
   "source": [
    "#final cost\n",
    "sum(computeCost(X,y))"
   ]
  },
  {
   "cell_type": "code",
   "execution_count": 10,
   "metadata": {},
   "outputs": [
    {
     "data": {
      "text/plain": [
       "[<matplotlib.lines.Line2D at 0x10e6c9d30>]"
      ]
     },
     "execution_count": 10,
     "metadata": {},
     "output_type": "execute_result"
    },
    {
     "data": {
      "image/png": "[encoded data removed]",
      "text/plain": [
       "<Figure size 432x288 with 1 Axes>"
      ]
     },
     "metadata": {
      "needs_background": "light"
     },
     "output_type": "display_data"
    }
   ],
   "source": [
    "plt.scatter(X,y)\n",
    "plt.plot(X, theta[0]+theta[1]*X)"
   ]
  },
  {
   "cell_type": "code",
   "execution_count": 11,
   "metadata": {},
   "outputs": [],
   "source": [
    "#第二條\n",
    "eta = 0.0005\n",
    "count = 200\n",
    "temp = [0,0]\n",
    "theta = [0,0]\n",
    "cost2 = []\n",
    "\n",
    "cost2.append(sum(computeCost(X,y)))\n",
    "for iter in range(1,count+1):\n",
    "    #update(θ₀, θ)\n",
    "    temp[0] = sum(h(X)-y)\n",
    "    temp[1] = sum((h(X)-y)*X)\n",
    "    theta[0] = theta[0] - eta*temp[0]\n",
    "    theta[1] = theta[1] - eta*temp[1]\n",
    "    cost2.append(sum(computeCost(X,y)))\n",
    "\n",
    "#第三條\n",
    "eta = 0.00001\n",
    "count = 200\n",
    "temp = [0,0]\n",
    "theta = [0,0]\n",
    "cost3 = []\n",
    "\n",
    "cost3.append(sum(computeCost(X,y)))\n",
    "for iter in range(1,count+1):\n",
    "    #update(θ₀, θ)\n",
    "    temp[0] = sum(h(X)-y)\n",
    "    temp[1] = sum((h(X)-y)*X)\n",
    "    theta[0] = theta[0] - eta*temp[0]\n",
    "    theta[1] = theta[1] - eta*temp[1]\n",
    "    cost3.append(sum(computeCost(X,y)))"
   ]
  },
  {
   "cell_type": "code",
   "execution_count": 16,
   "metadata": {},
   "outputs": [
    {
     "data": {
      "text/plain": [
       "<matplotlib.legend.Legend at 0x11235ab00>"
      ]
     },
     "execution_count": 16,
     "metadata": {},
     "output_type": "execute_result"
    },
    {
     "data": {
      "image/png": "[encoded data removed]",
      "text/plain": [
       "<Figure size 432x288 with 1 Axes>"
      ]
     },
     "metadata": {
      "needs_background": "light"
     },
     "output_type": "display_data"
    }
   ],
   "source": [
    "plt.plot(np.arange(count+1),cost1,color = 'red',label='big')\n",
    "plt.plot(np.arange(count+1),cost2,color = 'blue',label='normal')\n",
    "plt.plot(np.arange(count+1),cost3,color = 'green',label='small')\n",
    "plt.legend(loc=5)"
   ]
  },
  {
   "cell_type": "code",
   "execution_count": null,
   "metadata": {},
   "outputs": [],
   "source": []
  },
  {
   "cell_type": "code",
   "execution_count": null,
   "metadata": {},
   "outputs": [],
   "source": []
  },
  {
   "cell_type": "code",
   "execution_count": null,
   "metadata": {},
   "outputs": [],
   "source": []
  }
 ],
 "metadata": {
  "kernelspec": {
   "display_name": "Python 3",
   "language": "python",
   "name": "python3"
  },
  "language_info": {
   "codemirror_mode": {
    "name": "ipython",
    "version": 3
   },
   "file_extension": ".py",
   "mimetype": "text/x-python",
   "name": "python",
   "nbconvert_exporter": "python",
   "pygments_lexer": "ipython3",
   "version": "3.7.3"
  }
 },
 "nbformat": 4,
 "nbformat_minor": 2
}
